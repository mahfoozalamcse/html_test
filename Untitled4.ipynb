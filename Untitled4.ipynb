{
  "nbformat": 4,
  "nbformat_minor": 0,
  "metadata": {
    "colab": {
      "provenance": [],
      "authorship_tag": "ABX9TyP+v7dG5KvXf2QQnp0YETYt",
      "include_colab_link": true
    },
    "kernelspec": {
      "name": "python3",
      "display_name": "Python 3"
    },
    "language_info": {
      "name": "python"
    }
  },
  "cells": [
    {
      "cell_type": "markdown",
      "metadata": {
        "id": "view-in-github",
        "colab_type": "text"
      },
      "source": [
        "<a href=\"https://colab.research.google.com/github/mahfoozalamcse/html_test/blob/main/Untitled4.ipynb\" target=\"_parent\"><img src=\"https://colab.research.google.com/assets/colab-badge.svg\" alt=\"Open In Colab\"/></a>"
      ]
    },
    {
      "cell_type": "code",
      "execution_count": null,
      "metadata": {
        "colab": {
          "base_uri": "https://localhost:8080/"
        },
        "id": "qs9hql4BGf7o",
        "outputId": "67f8f58e-a0e8-4f37-a311-e55647e69b49"
      },
      "outputs": [
        {
          "output_type": "stream",
          "name": "stdout",
          "text": [
            "123\n"
          ]
        }
      ],
      "source": [
        "#pytho secomd file\n",
        "a=45\n",
        "b=78\n",
        "sum=a+b\n",
        "print(sum)"
      ]
    },
    {
      "cell_type": "code",
      "source": [
        "mylist=[\"cherry\", \"banana\" , \"mango\" , \"appleis\"] #for loop use\n",
        "for i in range(len(mylist)):\n",
        "  print(mylist[i])\n",
        "  #while loop\n",
        "i=0\n",
        "while i<len(mylist):\n",
        "  print(mylist[i])\n",
        "  i=i+1\n",
        "  #print using append 'a'\n",
        "newlist=[]\n",
        "for x in mylist:\n",
        "  if 'a' in x:\n",
        "    newlist.append(x)\n",
        "print(newlist)\n",
        "#sort list\n",
        "mylist.sort()\n",
        "print(mylist)\n",
        "mylist.sort(reverse= True)\n",
        "print(mylist)\n"
      ],
      "metadata": {
        "colab": {
          "base_uri": "https://localhost:8080/"
        },
        "id": "4EikEGKvHGlT",
        "outputId": "70e9c2bf-17ab-461c-f8c1-5f537db0bd97"
      },
      "execution_count": null,
      "outputs": [
        {
          "output_type": "stream",
          "name": "stdout",
          "text": [
            "cherry\n",
            "banana\n",
            "mango\n",
            "appleis\n",
            "cherry\n",
            "banana\n",
            "mango\n",
            "appleis\n",
            "['banana', 'mango', 'appleis']\n",
            "['appleis', 'banana', 'cherry', 'mango']\n",
            "['mango', 'cherry', 'banana', 'appleis']\n"
          ]
        }
      ]
    },
    {
      "cell_type": "code",
      "source": [
        "mylist=[23,67,4,12,56]\n",
        "mylist.sort"
      ],
      "metadata": {
        "id": "TaQ8m8NGRJbU"
      },
      "execution_count": null,
      "outputs": []
    }
  ]
}