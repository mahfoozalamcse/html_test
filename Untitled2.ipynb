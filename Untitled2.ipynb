{
  "nbformat": 4,
  "nbformat_minor": 0,
  "metadata": {
    "colab": {
      "provenance": [],
      "authorship_tag": "ABX9TyOmQRmhaB3ghzP+lfQbnKrC",
      "include_colab_link": true
    },
    "kernelspec": {
      "name": "python3",
      "display_name": "Python 3"
    },
    "language_info": {
      "name": "python"
    }
  },
  "cells": [
    {
      "cell_type": "markdown",
      "metadata": {
        "id": "view-in-github",
        "colab_type": "text"
      },
      "source": [
        "<a href=\"https://colab.research.google.com/github/mahfoozalamcse/html_test/blob/main/Untitled2.ipynb\" target=\"_parent\"><img src=\"https://colab.research.google.com/assets/colab-badge.svg\" alt=\"Open In Colab\"/></a>"
      ]
    },
    {
      "cell_type": "code",
      "execution_count": null,
      "metadata": {
        "colab": {
          "base_uri": "https://localhost:8080/"
        },
        "id": "sN6PBtd4qUpQ",
        "outputId": "ad9a26af-f2ac-4871-d6df-8a861233d27c"
      },
      "outputs": [
        {
          "output_type": "stream",
          "name": "stdout",
          "text": [
            "5\n"
          ]
        }
      ],
      "source": [
        "a = 5\n",
        "print(a)\n"
      ]
    },
    {
      "cell_type": "code",
      "source": [
        "a = int(input(\"enter the number\"))\n",
        "b = int(input(\"enter the number\"))\n",
        "print(a)\n",
        "print(b)\n",
        "print(a + b)"
      ],
      "metadata": {
        "colab": {
          "base_uri": "https://localhost:8080/"
        },
        "id": "PpkyYvJXqmwe",
        "outputId": "edd0930b-4a9a-416f-9034-bd96184b17c3"
      },
      "execution_count": null,
      "outputs": [
        {
          "output_type": "stream",
          "name": "stdout",
          "text": [
            "enter the number67\n",
            "enter the number89\n",
            "67\n",
            "89\n",
            "156\n"
          ]
        }
      ]
    },
    {
      "cell_type": "code",
      "source": [
        "def add_num(a,b):\n",
        "    sum= a+b;\n",
        "    return sum;\n",
        "num1 =4\n",
        "num2 =7\n",
        "print(\"The sum is\",add_num(num1,num2))"
      ],
      "metadata": {
        "colab": {
          "base_uri": "https://localhost:8080/"
        },
        "id": "3g7ZS4z0rk5P",
        "outputId": "0c318cd5-a1ce-435c-a054-0cb2881010c4"
      },
      "execution_count": null,
      "outputs": [
        {
          "output_type": "stream",
          "name": "stdout",
          "text": [
            "The sum is 11\n"
          ]
        }
      ]
    },
    {
      "cell_type": "code",
      "source": [
        "import math\n",
        "def factorial(n):\n",
        "  return(math.factorial(n))\n",
        "  num=5\n",
        "  print(\"Factorial of\", num ,\"is\" ,factorial(num))"
      ],
      "metadata": {
        "id": "JPsQjZoc33hZ"
      },
      "execution_count": null,
      "outputs": []
    },
    {
      "cell_type": "code",
      "source": [
        "n=int(input(\"enter the number\"))\n",
        "factorial=1\n",
        "if n<0:\n",
        "   print(\"factorial not genrate negative number\")\n",
        "elif n==0:\n",
        "    print(\"the facorial of 0 is 1\")\n",
        "else:\n",
        "    for i in range (1,n+1):\n",
        "        factorial=factorial*i\n",
        "    print(\" the factorial\",n,\"is\",factorial)\n",
        "\n",
        "\n",
        "\n"
      ],
      "metadata": {
        "colab": {
          "base_uri": "https://localhost:8080/"
        },
        "id": "yK4EUA_xhesP",
        "outputId": "8df2e882-0a2b-4863-be79-bf8f19d51596"
      },
      "execution_count": null,
      "outputs": [
        {
          "output_type": "stream",
          "name": "stdout",
          "text": [
            "enter the number78\n",
            " the factorial 78 is 11324281178206297831457521158732046228731749579488251990048962825668835325234200766245086213177344000000000000000000\n"
          ]
        }
      ]
    },
    {
      "cell_type": "code",
      "source": [
        "n=int(input(\"Enter the number\"))\n",
        "sum=0\n",
        "temp=n\n",
        "while temp>0:\n",
        "  digit=temp%10\n",
        "  sum+=digit**3\n",
        "  temp//=10\n",
        "if n==sum:\n",
        "    print(n,\"is armstrong number\")\n",
        "else:\n",
        "     print(n,\"is not a armstrong number\")\n",
        "\n"
      ],
      "metadata": {
        "colab": {
          "base_uri": "https://localhost:8080/"
        },
        "id": "P6yo5FTJnMhI",
        "outputId": "12048c6f-9a32-4934-819a-d243e7482822"
      },
      "execution_count": null,
      "outputs": [
        {
          "output_type": "stream",
          "name": "stdout",
          "text": [
            "Enter the number153\n",
            "153 is armstrong number\n"
          ]
        }
      ]
    },
    {
      "cell_type": "code",
      "source": [
        "#mat1=[[m][n]]logic of matrix multiplication\n",
        "#mat2=[[p][q]]\n",
        "#mat1*mat2"
      ],
      "metadata": {
        "id": "uuPINWTWtlyb"
      },
      "execution_count": null,
      "outputs": []
    },
    {
      "cell_type": "code",
      "source": [],
      "metadata": {
        "id": "b4xrMoYLhAr4"
      },
      "execution_count": null,
      "outputs": []
    },
    {
      "cell_type": "code",
      "source": [
        "\n",
        "a= 'rajas'\n",
        "b='rajasekha'\n",
        "c='faiz'\n",
        "print(a+b+c)\n",
        "\n"
      ],
      "metadata": {
        "colab": {
          "base_uri": "https://localhost:8080/"
        },
        "id": "zmH1bejio_VR",
        "outputId": "e35ec809-28f1-4bb0-cc82-caed86c5d8e0"
      },
      "execution_count": null,
      "outputs": [
        {
          "output_type": "stream",
          "name": "stdout",
          "text": [
            "rajasrajasekhafaiz\n"
          ]
        }
      ]
    },
    {
      "cell_type": "code",
      "source": [
        "a='rahnkvndfgjfhdgndfjsfhdghdfjsdjig'\n",
        "print(slice(a))"
      ],
      "metadata": {
        "colab": {
          "base_uri": "https://localhost:8080/"
        },
        "id": "RFFxsJcxsbX_",
        "outputId": "fc4c36c6-92d4-408d-c7bb-df8067445182"
      },
      "execution_count": null,
      "outputs": [
        {
          "output_type": "stream",
          "name": "stdout",
          "text": [
            "slice(None, 'rahnkvndfgjfhdgndfjsfhdghdfjsdjig', None)\n"
          ]
        }
      ]
    },
    {
      "cell_type": "code",
      "source": [
        "str='abesitlibrary'\n",
        "print(slice(str,5))\n"
      ],
      "metadata": {
        "colab": {
          "base_uri": "https://localhost:8080/"
        },
        "id": "lR3YZCR9tErk",
        "outputId": "d38b186f-f707-4516-a65e-68a290d21b8c"
      },
      "execution_count": null,
      "outputs": [
        {
          "output_type": "stream",
          "name": "stdout",
          "text": [
            "slice('abesitlibrary', 5, None)\n"
          ]
        }
      ]
    },
    {
      "cell_type": "code",
      "source": [
        "s='rsfsdfgsdgssfhsdjfh'\n",
        "s[2:5]"
      ],
      "metadata": {
        "colab": {
          "base_uri": "https://localhost:8080/",
          "height": 35
        },
        "id": "kxsCYyNVux95",
        "outputId": "89f17067-2759-4d76-a04e-c0c3096bf09e"
      },
      "execution_count": null,
      "outputs": [
        {
          "output_type": "execute_result",
          "data": {
            "text/plain": [
              "'fsd'"
            ],
            "application/vnd.google.colaboratory.intrinsic+json": {
              "type": "string"
            }
          },
          "metadata": {},
          "execution_count": 11
        }
      ]
    },
    {
      "cell_type": "code",
      "source": [
        "\n",
        "\n",
        "s='experiment'\n",
        "b=s.replace('e','$')\n",
        "print(b)\n",
        "\n"
      ],
      "metadata": {
        "colab": {
          "base_uri": "https://localhost:8080/"
        },
        "id": "wbXzVYtMvkJR",
        "outputId": "59a20f58-3b80-41f8-e2fd-9edc27f49ef2"
      },
      "execution_count": null,
      "outputs": [
        {
          "output_type": "stream",
          "name": "stdout",
          "text": [
            "$xp$rim$nt\n"
          ]
        }
      ]
    },
    {
      "cell_type": "code",
      "source": [
        "str='i'\n",
        "n=\"abestilibrarygoihbsfdsijdn\"\n",
        "print(n.count(str,0,25))\n",
        "\n",
        "\n"
      ],
      "metadata": {
        "colab": {
          "base_uri": "https://localhost:8080/"
        },
        "id": "iPMzFfjg0lJX",
        "outputId": "07ce8788-7ca0-4d1d-b56f-6dfc588e38d9"
      },
      "execution_count": null,
      "outputs": [
        {
          "output_type": "stream",
          "name": "stdout",
          "text": [
            "4\n"
          ]
        }
      ]
    },
    {
      "cell_type": "code",
      "source": [
        "if(5>4):\n",
        "  print('Greater value')"
      ],
      "metadata": {
        "id": "gjf8Y1d_279q",
        "colab": {
          "base_uri": "https://localhost:8080/"
        },
        "outputId": "1db0100d-e56b-4821-e7bb-3357d0dc95c9"
      },
      "execution_count": null,
      "outputs": [
        {
          "output_type": "stream",
          "name": "stdout",
          "text": [
            "Greater value\n"
          ]
        }
      ]
    },
    {
      "cell_type": "code",
      "source": [
        "if(4>3):\n",
        "print('greater value') #identation error expected"
      ],
      "metadata": {
        "id": "3Sfvtf6iEguh"
      },
      "execution_count": null,
      "outputs": []
    },
    {
      "cell_type": "code",
      "source": [
        "x=5\n",
        "y=\"hello World\"\n",
        "print(x)\n",
        "print(y)"
      ],
      "metadata": {
        "colab": {
          "base_uri": "https://localhost:8080/"
        },
        "id": "b-fKCmUrFAL_",
        "outputId": "496fc413-fdf9-493c-fc6d-1e034054d953"
      },
      "execution_count": null,
      "outputs": [
        {
          "output_type": "stream",
          "name": "stdout",
          "text": [
            "5\n",
            "hello World\n"
          ]
        }
      ]
    },
    {
      "cell_type": "code",
      "source": [
        "myVariable=\"MAHFOOZ ALAM\"\n",
        "_myvariable=\"Mahfooz alam\"\n",
        "_my_variavle=\"Mahfooz alam 786\""
      ],
      "metadata": {
        "id": "Ac-YzsEpFX_A"
      },
      "execution_count": null,
      "outputs": []
    },
    {
      "cell_type": "code",
      "source": [
        "#illegle variable\n",
        "my-variavle=\"Mahfooz\"\n",
        "my variable= \"Mahfooz\"\n",
        " myvariable=\"mahfooz\""
      ],
      "metadata": {
        "id": "cQnuqB6yH7Mw"
      },
      "execution_count": null,
      "outputs": []
    },
    {
      "cell_type": "code",
      "source": [
        "from pickle import FALSE\n",
        "mylist = [\"cherry\" ,\"banana\" , \"Orange\" ,\"cherry\"]\n",
        "print(mylist)\n",
        "print(len(mylist))\n",
        "mylist1 = [1,2,3,45,78]\n",
        "mylist2=[True,False,False]# list item can be any data type\n",
        "print(mylist1)\n",
        "print(mylist2)\n",
        "if \"cherry\" in mylist:\n",
        "    print(\"yes ,cherry in this list\")\n",
        "mylist[1]=\"red chilly is spicy\"\n",
        "print(mylist)\n",
        "mylist.append(\"blackverry\")\n",
        "print(mylist)\n",
        "mylist.insert(2,\"faraj\")\n",
        "print(mylist)\n",
        "mylist.extend(mylist2)\n",
        "print(mylist)\n",
        "mylist.remove(\"cherry\")\n",
        "print(mylist)\n",
        "mylist.pop(0)\n",
        "print(mylist)\n",
        "del mylist[0]\n",
        "print(mylist)\n",
        "mylist.clear()\n",
        "print(mylist)\n",
        "\n"
      ],
      "metadata": {
        "colab": {
          "base_uri": "https://localhost:8080/"
        },
        "id": "NzCZVbdKXNCj",
        "outputId": "fd415b74-eeab-4250-e402-2ddf4f45837d"
      },
      "execution_count": null,
      "outputs": [
        {
          "output_type": "stream",
          "name": "stdout",
          "text": [
            "['cherry', 'banana', 'Orange', 'cherry']\n",
            "4\n",
            "[1, 2, 3, 45, 78]\n",
            "[True, False, False]\n",
            "yes ,cherry in this list\n",
            "['cherry', 'red chilly is spicy', 'Orange', 'cherry']\n",
            "['cherry', 'red chilly is spicy', 'Orange', 'cherry', 'blackverry']\n",
            "['cherry', 'red chilly is spicy', 'faraj', 'Orange', 'cherry', 'blackverry']\n",
            "['cherry', 'red chilly is spicy', 'faraj', 'Orange', 'cherry', 'blackverry', True, False, False]\n",
            "['red chilly is spicy', 'faraj', 'Orange', 'cherry', 'blackverry', True, False, False]\n",
            "['faraj', 'Orange', 'cherry', 'blackverry', True, False, False]\n",
            "['Orange', 'cherry', 'blackverry', True, False, False]\n",
            "[]\n"
          ]
        }
      ]
    },
    {
      "cell_type": "code",
      "source": [],
      "metadata": {
        "id": "BSFevy3xXP1T"
      },
      "execution_count": null,
      "outputs": []
    },
    {
      "cell_type": "code",
      "source": [],
      "metadata": {
        "id": "3eYNyKR7XVKj"
      },
      "execution_count": null,
      "outputs": []
    },
    {
      "cell_type": "code",
      "source": [],
      "metadata": {
        "id": "eTK7AM0rXZ3z"
      },
      "execution_count": null,
      "outputs": []
    },
    {
      "cell_type": "code",
      "source": [
        "#python  allow multiple variable assign concept\n",
        "x , y , z , L = (\"Hello\", \"yellow\" , \"Faraz Chishti\" , \"Mahfooz Alam\")\n",
        "print(x)\n",
        "print(y)\n",
        "print(z)\n",
        "print(L)"
      ],
      "metadata": {
        "id": "fA6RPzPhJFXo",
        "colab": {
          "base_uri": "https://localhost:8080/"
        },
        "outputId": "fb38a4fe-7f20-4733-d75a-6d2effe437d9"
      },
      "execution_count": null,
      "outputs": [
        {
          "output_type": "stream",
          "name": "stdout",
          "text": [
            "Hello\n",
            "yellow\n",
            "Faraz Chishti\n",
            "Mahfooz Alam\n"
          ]
        }
      ]
    },
    {
      "cell_type": "code",
      "source": [
        "#ONE VALUE TO MULTIPLE VARIABLE\n",
        "x=y=z=\"Orange\"\n",
        "print(x)\n",
        "print(y)\n",
        "print(z)\n"
      ],
      "metadata": {
        "colab": {
          "base_uri": "https://localhost:8080/"
        },
        "id": "_seK-akXK2-S",
        "outputId": "04cdced8-d131-4425-e1c0-39322aba6119"
      },
      "execution_count": null,
      "outputs": [
        {
          "output_type": "stream",
          "name": "stdout",
          "text": [
            "Orange\n",
            "Orange\n",
            "Orange\n"
          ]
        }
      ]
    },
    {
      "cell_type": "code",
      "source": [
        "#python support unpacking concept\n",
        "fruits = (\"orange\", \"banana\" , \"Mixfruits\")\n",
        "x, y, z = fruits\n",
        "print(x)\n",
        "print(y)\n",
        "print(z)"
      ],
      "metadata": {
        "colab": {
          "base_uri": "https://localhost:8080/"
        },
        "id": "_t_zY6SGLWKv",
        "outputId": "2bfe4223-416c-4049-894e-3674ced4770e"
      },
      "execution_count": null,
      "outputs": [
        {
          "output_type": "stream",
          "name": "stdout",
          "text": [
            "orange\n",
            "banana\n",
            "Mixfruits\n"
          ]
        }
      ]
    },
    {
      "cell_type": "code",
      "source": [
        "#output variable in python is print() e.g\n",
        "x= \"python \"\n",
        "y= \"is \"\n",
        "z= \"Awasom\"\n",
        "print(x,y,z)\n",
        "print(x+y+z)"
      ],
      "metadata": {
        "colab": {
          "base_uri": "https://localhost:8080/"
        },
        "id": "Uzg_51fnMO8Q",
        "outputId": "a3ce9893-b035-49b9-9889-e404a406f970"
      },
      "execution_count": null,
      "outputs": [
        {
          "output_type": "stream",
          "name": "stdout",
          "text": [
            "python  is  Awasom\n",
            "python is Awasom\n"
          ]
        }
      ]
    },
    {
      "cell_type": "code",
      "source": [
        "#globle variabe use python\n",
        "x= \"Awasom\"\n",
        "def myfunc():\n",
        "  print(\"python is \" +  x)\n",
        "myfunc()"
      ],
      "metadata": {
        "colab": {
          "base_uri": "https://localhost:8080/"
        },
        "id": "y5UWujZtOhog",
        "outputId": "3e258b77-b16a-4145-b5c5-7367fb0abf1f"
      },
      "execution_count": null,
      "outputs": [
        {
          "output_type": "stream",
          "name": "stdout",
          "text": [
            "python is Awasom\n"
          ]
        }
      ]
    },
    {
      "cell_type": "code",
      "source": [
        "#creating double same gloabal variable\n",
        "x=\"fantastic\"\n",
        "def myfunc():\n",
        "  x=\"Awasom\"\n",
        "  print(\"python is \" + x)\n",
        "myfunc()\n",
        "print(\"python is \" + x)"
      ],
      "metadata": {
        "colab": {
          "base_uri": "https://localhost:8080/"
        },
        "id": "IG9-4dp6PjvH",
        "outputId": "9c307e1d-a3b0-458a-8a25-ba82e34acb37"
      },
      "execution_count": null,
      "outputs": [
        {
          "output_type": "stream",
          "name": "stdout",
          "text": [
            "python is Awasom\n",
            "python is fantastic\n"
          ]
        }
      ]
    },
    {
      "cell_type": "code",
      "source": [
        "#global keyword\n",
        "def myfunc():\n",
        "  global x\n",
        "  x= \"fantastic\"\n",
        "myfunc()\n",
        "print(\"python is \" + x)"
      ],
      "metadata": {
        "colab": {
          "base_uri": "https://localhost:8080/"
        },
        "id": "sBNEk6J7QuJ-",
        "outputId": "ed26032a-42b3-411b-ce79-fd12c9cd0a73"
      },
      "execution_count": null,
      "outputs": [
        {
          "output_type": "stream",
          "name": "stdout",
          "text": [
            "python is fantastic\n"
          ]
        }
      ]
    },
    {
      "cell_type": "code",
      "source": [
        "#data type\n",
        "a=\"hello world\"\n",
        "b=7\n",
        "c=20.0\n",
        "d=1j\n",
        "e=[\"apple\", \"banana\", \"Orange\" , \"Mahfooz\"]\n",
        "f={20,56,79}\n",
        "g = ( \"hello\")\n",
        "h={\"name\": \"mahfooz\",\"age\" : 34}\n",
        "j=frozenset({\"hello\", \"aple\" ,\"cherry\"})\n",
        "l=memoryview(bytes(5))\n",
        "i=None\n",
        "print(type(a))\n",
        "print(type(b))\n",
        "print(type(c))\n",
        "print(type(d))\n",
        "print(type(e))\n",
        "print(type(f))\n",
        "print(type(g))\n",
        "print(type(h))\n",
        "print(type(i))\n",
        "print(type(j))\n",
        "print(type(l))\n",
        "\n",
        "\n"
      ],
      "metadata": {
        "colab": {
          "base_uri": "https://localhost:8080/"
        },
        "id": "nimOiMrfWdrO",
        "outputId": "f01cd5f6-1a84-4bf1-c642-67b2eb2ec18e"
      },
      "execution_count": null,
      "outputs": [
        {
          "output_type": "stream",
          "name": "stdout",
          "text": [
            "<class 'str'>\n",
            "<class 'int'>\n",
            "<class 'float'>\n",
            "<class 'complex'>\n",
            "<class 'list'>\n",
            "<class 'set'>\n",
            "<class 'str'>\n",
            "<class 'dict'>\n",
            "<class 'NoneType'>\n",
            "<class 'frozenset'>\n",
            "<class 'memoryview'>\n"
          ]
        }
      ]
    },
    {
      "cell_type": "code",
      "source": [
        "x=42565955673555539595\n",
        "y=1\n",
        "z=-22353535\n",
        "a=3e34\n",
        "b=23E2\n",
        "c=-56.234e34\n",
        "d=1+45j\n",
        "print(type(x))\n",
        "print(type(y))\n",
        "print(type(z))\n",
        "print(type(a))\n",
        "print(type(b))\n",
        "print(type(c))\n",
        "print(type(d))"
      ],
      "metadata": {
        "colab": {
          "base_uri": "https://localhost:8080/"
        },
        "id": "6o8gEdlrZ-7m",
        "outputId": "bfcf88d4-65f8-423c-9401-dc9d5e0edaa7"
      },
      "execution_count": null,
      "outputs": [
        {
          "output_type": "stream",
          "name": "stdout",
          "text": [
            "<class 'int'>\n",
            "<class 'int'>\n",
            "<class 'int'>\n",
            "<class 'float'>\n",
            "<class 'float'>\n",
            "<class 'float'>\n",
            "<class 'complex'>\n"
          ]
        }
      ]
    },
    {
      "cell_type": "code",
      "source": [
        "#type conversion\n",
        "x=154578\n",
        "print(float(x))\n",
        "print(complex(x))\n",
        "#y=0+89j complex no not convert any othe number\n",
        "#print(int(y))"
      ],
      "metadata": {
        "colab": {
          "base_uri": "https://localhost:8080/"
        },
        "id": "_fR5Jpx2huL5",
        "outputId": "d1c90fd3-a552-45e3-d11c-5e5ba837317e"
      },
      "execution_count": null,
      "outputs": [
        {
          "output_type": "stream",
          "name": "stdout",
          "text": [
            "154578.0\n",
            "(154578+0j)\n"
          ]
        }
      ]
    },
    {
      "cell_type": "code",
      "source": [
        "import random\n",
        "print(random.randrange(1,10))"
      ],
      "metadata": {
        "colab": {
          "base_uri": "https://localhost:8080/"
        },
        "id": "rzfMq-XwinEQ",
        "outputId": "0010ea51-2f14-4742-b2da-787c0a98714d"
      },
      "execution_count": null,
      "outputs": [
        {
          "output_type": "stream",
          "name": "stdout",
          "text": [
            "4\n"
          ]
        }
      ]
    },
    {
      "cell_type": "code",
      "source": [
        "#check string\n",
        "txt=(\"hello i am free in night today you call me at that time\")\n",
        "print(\"free\" in txt)"
      ],
      "metadata": {
        "colab": {
          "base_uri": "https://localhost:8080/"
        },
        "id": "gIQSv6d4oQSU",
        "outputId": "e6ca3266-38d2-478f-ac95-4337e6dd8c67"
      },
      "execution_count": null,
      "outputs": [
        {
          "output_type": "stream",
          "name": "stdout",
          "text": [
            "True\n"
          ]
        }
      ]
    },
    {
      "cell_type": "code",
      "source": [
        "txt= \"best thing in life is free\"\n",
        "if \"free\" in txt:\n",
        "   print(\"yes , it is present\")"
      ],
      "metadata": {
        "colab": {
          "base_uri": "https://localhost:8080/"
        },
        "id": "izX5n7HQos5c",
        "outputId": "3dc3d79a-8e5c-413e-f176-57a7e53af741"
      },
      "execution_count": null,
      "outputs": [
        {
          "output_type": "stream",
          "name": "stdout",
          "text": [
            "yes , it is present\n"
          ]
        }
      ]
    },
    {
      "cell_type": "code",
      "source": [
        "#check not in\n",
        "txt= \"Love is expensive in this world with our  frind , other and family \"\n",
        "print(\"expensive\" not in txt)"
      ],
      "metadata": {
        "colab": {
          "base_uri": "https://localhost:8080/"
        },
        "id": "QsOMsHfvppOn",
        "outputId": "2acdf48e-9535-482f-fef7-70c49aed057c"
      },
      "execution_count": null,
      "outputs": [
        {
          "output_type": "stream",
          "name": "stdout",
          "text": [
            "False\n"
          ]
        }
      ]
    },
    {
      "cell_type": "code",
      "source": [
        "x=\"today i fall in love with someone which not avoid by me\"\n",
        "if \"Faraj\" not in x:\n",
        "   print(\"false , Faraj not in txt\")"
      ],
      "metadata": {
        "colab": {
          "base_uri": "https://localhost:8080/"
        },
        "id": "vPFObHgqqk6n",
        "outputId": "83335a6e-e454-41b7-e576-b3e412d8b712"
      },
      "execution_count": null,
      "outputs": [
        {
          "output_type": "stream",
          "name": "stdout",
          "text": [
            "false , Faraj not in txt\n"
          ]
        }
      ]
    },
    {
      "cell_type": "code",
      "source": [
        "\n",
        "#slicing\n",
        "a= \"faraj ,mahfooz\"\n",
        "print(a[2:5])\n"
      ],
      "metadata": {
        "colab": {
          "base_uri": "https://localhost:8080/"
        },
        "id": "tP5ff2eBr4Lm",
        "outputId": "3737ef7b-5cd2-47e2-de50-7d66e15f6330"
      },
      "execution_count": null,
      "outputs": [
        {
          "output_type": "stream",
          "name": "stdout",
          "text": [
            "raj\n"
          ]
        }
      ]
    },
    {
      "cell_type": "code",
      "source": [
        "#variabe assign string\n",
        "a=\"Hello world\"\n",
        "print(a)"
      ],
      "metadata": {
        "id": "DFMqi7Y6ucE-",
        "colab": {
          "base_uri": "https://localhost:8080/"
        },
        "outputId": "c17691f4-6e18-4529-9158-5f6d113fd4ba"
      },
      "execution_count": null,
      "outputs": [
        {
          "output_type": "stream",
          "name": "stdout",
          "text": [
            "Hello world\n"
          ]
        }
      ]
    },
    {
      "cell_type": "code",
      "source": [
        "#multiple line string\n",
        "a=\"\"\"lorem this is good boy and doing better in current time that is good\n",
        "they are gteedy\n",
        "health is welth in current time\n",
        "that is good\"\"\"\n",
        "print(a)\n"
      ],
      "metadata": {
        "colab": {
          "base_uri": "https://localhost:8080/"
        },
        "id": "Mpo-PylntDo6",
        "outputId": "e2a8ea72-415b-4530-f8e4-18cca8603afc"
      },
      "execution_count": null,
      "outputs": [
        {
          "output_type": "stream",
          "name": "stdout",
          "text": [
            "lorem this is good boy and doing better in current time that is good\n",
            "they are gteedy\n",
            "health is welth in current time\n",
            "that is good\n"
          ]
        }
      ]
    },
    {
      "cell_type": "code",
      "source": [
        "#looping in string\n",
        "for x in \"faraj chishti\":\n",
        "    print(x)"
      ],
      "metadata": {
        "id": "OOXwax1_t_Mi"
      },
      "execution_count": null,
      "outputs": []
    },
    {
      "cell_type": "code",
      "source": [
        "#lengh in string\n",
        "a=\"Mahfooz alam\"\n",
        "b=\"  faraj , chishti\"\n",
        "c=\"Farajchishti\"\n",
        "print(len(a))\n",
        "print(a[-5:12])\n",
        "print(b.upper())\n",
        "print(b.lower())\n",
        "print(b.strip())#remoove whitspace mathod\n",
        "print(c.replace(\"Chishti\",\"Mahfooz\"))\n",
        "print(c.split(\" ,\"))"
      ],
      "metadata": {
        "colab": {
          "base_uri": "https://localhost:8080/"
        },
        "id": "weBYFvLWus1y",
        "outputId": "8368f54b-6ccb-4ac8-bbfd-297479973c41"
      },
      "execution_count": null,
      "outputs": [
        {
          "output_type": "stream",
          "name": "stdout",
          "text": [
            "12\n",
            " alam\n",
            "  FARAJ , CHISHTI\n",
            "  faraj , chishti\n",
            "faraj , chishti\n",
            "Farajchishti\n",
            "['Farajchishti']\n"
          ]
        }
      ]
    },
    {
      "cell_type": "code",
      "source": [
        "#merge variable using cocatenate mathod\n",
        "a=\"faraj\"\n",
        "b=\"Mahfooz\"\n",
        "c=a + b\n",
        "print(c)\n",
        "print(a +\" \"+ b)\n"
      ],
      "metadata": {
        "colab": {
          "base_uri": "https://localhost:8080/"
        },
        "id": "Noja63g3yJzL",
        "outputId": "2309e8d3-0920-4776-f67d-a6b6d979effe"
      },
      "execution_count": null,
      "outputs": [
        {
          "output_type": "stream",
          "name": "stdout",
          "text": [
            "farajMahfooz\n",
            "faraj Mahfooz\n"
          ]
        }
      ]
    },
    {
      "cell_type": "code",
      "source": [
        "#foramate mathod\n",
        "#age=22\n",
        "#txt=\"i am Mahfooz alam ,and \" + age\n",
        "#print(txt)     they give error\n",
        "#use formate mathod\n",
        "age=22\n",
        "txt= \"I am Mahfooz alam i want make programmer, age {}\"\n",
        "print(txt.format(age))\n"
      ],
      "metadata": {
        "colab": {
          "base_uri": "https://localhost:8080/"
        },
        "id": "l3zkggHu0QLL",
        "outputId": "b6ab57a9-19c3-4b31-fa64-74d354fdb272"
      },
      "execution_count": null,
      "outputs": [
        {
          "output_type": "stream",
          "name": "stdout",
          "text": [
            "I am Mahfooz alam i want make programmer, age 22\n"
          ]
        }
      ]
    },
    {
      "cell_type": "code",
      "source": [
        "#formate mathod take unlimited arguments\n",
        "Name=\"Mahfooz\"\n",
        "age=22\n",
        "village=\"thekaha\"\n",
        "city=\"varansi\"\n",
        "pincode=\"23456789\"\n",
        "housNumber=56\n",
        "myorder=\"I am Name {} age {} and village {} and city {} and pincode {} and housNumber {}\"\n",
        "print(myorder.format(Name, age ,village ,city , pincode , housNumber ))\n"
      ],
      "metadata": {
        "colab": {
          "base_uri": "https://localhost:8080/"
        },
        "id": "1d8PkfVvvKQ5",
        "outputId": "089d6c2d-c648-4a0a-830c-310daf903688"
      },
      "execution_count": null,
      "outputs": [
        {
          "output_type": "stream",
          "name": "stdout",
          "text": [
            "I am Name Mahfooz age 22 and village thekaha and city varansi and pincode 23456789 and housNumber 56\n"
          ]
        }
      ]
    },
    {
      "cell_type": "code",
      "source": [
        "#python scape squence charater\n",
        "#\\',\\\\,\\t,\\n,\\r,\\b,\\f,\\ooo,\\xhh\n",
        "a=\"hello world \\'\"\n",
        "print(a)\n",
        "b=\"Mahfooz \\\\Alam\"\n",
        "print(b)\n",
        "c=\"faraj ch\\ntishsti\"\n",
        "print(c)\n",
        "d=\"afjal \\r ah\"\n",
        "print(d)\n",
        "e=\"Ahad\\fahamad\"\n",
        "print(e)\n",
        "f=\"mah\\bfooz\"\n",
        "print(f)\n",
        "#print(g)"
      ],
      "metadata": {
        "colab": {
          "base_uri": "https://localhost:8080/"
        },
        "id": "rN8AeXgh4uB1",
        "outputId": "9d6a163d-190a-465c-c1f6-d2a3d08711fa"
      },
      "execution_count": null,
      "outputs": [
        {
          "output_type": "stream",
          "name": "stdout",
          "text": [
            "hello world '\n",
            "Mahfooz \\Alam\n",
            "faraj ch\n",
            "tishsti\n",
            "afjal \r ah\n",
            "Ahad\fahamad\n",
            "mah\bfooz\n"
          ]
        }
      ]
    },
    {
      "cell_type": "code",
      "source": [
        "#string mathod you try more for depth knowlege\n",
        "a= \"hello  hello world \"\n",
        "b=\"mahfooz\"\n",
        "print(a.capitalize())\n",
        "print(b.casefold())\n",
        "print(a.center(6))\n",
        "print(a.count(a))\n",
        "print(b.encode())\n",
        "print(a.find())\n",
        "print(b.format())\n",
        "print(b.isdigit())"
      ],
      "metadata": {
        "id": "IZioaAJA_AQF"
      },
      "execution_count": null,
      "outputs": []
    },
    {
      "cell_type": "code",
      "source": [
        "#boolean\n",
        "a=bool(\"abc\")\n",
        "b=bool(123)\n",
        "c=bool([\"cherry\", \"banana\" , \"orange\"])\n",
        "print(a)\n",
        "print(b)\n",
        "print(c)"
      ],
      "metadata": {
        "colab": {
          "base_uri": "https://localhost:8080/"
        },
        "id": "zkBzqq6jG6JI",
        "outputId": "bd500e0e-3cc2-4cba-f23b-76405ffc45ac"
      },
      "execution_count": null,
      "outputs": [
        {
          "output_type": "stream",
          "name": "stdout",
          "text": [
            "True\n",
            "True\n",
            "True\n"
          ]
        }
      ]
    },
    {
      "cell_type": "code",
      "source": [
        "from os import truncate\n",
        "#function return boolean\n",
        "def myfunc():\n",
        "   return  True\n",
        "print(myfunc())"
      ],
      "metadata": {
        "colab": {
          "base_uri": "https://localhost:8080/"
        },
        "id": "VIbtCw11L2pR",
        "outputId": "d4efb44b-fdf6-4bdc-9d40-862d730ba473"
      },
      "execution_count": null,
      "outputs": [
        {
          "output_type": "stream",
          "name": "stdout",
          "text": [
            "True\n"
          ]
        }
      ]
    },
    {
      "cell_type": "code",
      "source": [
        "def myfunc():\n",
        " return True\n",
        "if myfunc():\n",
        "  print(\"yes\")\n",
        "else:\n",
        "  print(\"No\")"
      ],
      "metadata": {
        "colab": {
          "base_uri": "https://localhost:8080/"
        },
        "id": "b7DysFnUMhuC",
        "outputId": "d57020cd-169b-44e3-d455-8ce2302ef6c3"
      },
      "execution_count": null,
      "outputs": [
        {
          "output_type": "stream",
          "name": "stdout",
          "text": [
            "yes\n"
          ]
        }
      ]
    },
    {
      "cell_type": "code",
      "source": [
        "#check object are integer or not\n",
        "x=2000\n",
        "print(isinstance(x ,int))"
      ],
      "metadata": {
        "colab": {
          "base_uri": "https://localhost:8080/"
        },
        "id": "JzPj5oO9NUyz",
        "outputId": "bf20a744-247a-4344-e36a-81246ab8a64c"
      },
      "execution_count": null,
      "outputs": [
        {
          "output_type": "stream",
          "name": "stdout",
          "text": [
            "True\n"
          ]
        }
      ]
    },
    {
      "cell_type": "code",
      "source": [
        "#operator here we learn\n",
        "a=12*4/45+45\n",
        "print(a)\n",
        "b=12**2\n",
        "print(b)\n",
        "c=12<7 & 12<4\n",
        "print(c)\n",
        "d=23%6+34*23-512+345//2\n",
        "print(d)"
      ],
      "metadata": {
        "colab": {
          "base_uri": "https://localhost:8080/"
        },
        "id": "i3Oq2IvPOQVa",
        "outputId": "560954c9-51b7-447a-de92-87ef6f522f97"
      },
      "execution_count": null,
      "outputs": [
        {
          "output_type": "stream",
          "name": "stdout",
          "text": [
            "46.06666666666667\n",
            "144\n",
            "False\n",
            "447\n"
          ]
        }
      ]
    }
  ]
}